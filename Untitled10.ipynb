{
 "cells": [
  {
   "cell_type": "code",
   "execution_count": null,
   "metadata": {},
   "outputs": [],
   "source": [
    "import pandas as pd\n",
    "import numpy as np\n",
    "import matplotlib.pyplot as plt\n",
    "# source of data: https://www.numbeo.com/pollution/rankings.jsp\n",
    "dataset=pd.read_csv(r'/Users/vishu/Desktop/World.csv')\n",
    "X = dataset['Pollution_Expectation'].values\n",
    "Y = dataset['Pollution_Index'].values\n",
    "A = dataset['Rank'].values"
   ]
  },
  {
   "cell_type": "code",
   "execution_count": null,
   "metadata": {},
   "outputs": [],
   "source": [
    "import scipy.stats as st   # Python library used for scientific computing and technical computing\n",
    "\n",
    "plt.hist(A[-1::-1], Y[-1::-1], density=True, color='red', label='Index') \n",
    "mn, mx = plt.xlim()  # return the current xlim\n",
    "plt.xlim(mn, mx)     # set the xlim to left, right\n",
    "kde_xs = np.linspace(mn, mx, 300)  # creating numeric sequences\n",
    "kde = st.gaussian_kde(X)\n",
    "plt.plot(X[-1::-1], kde.pdf(X[-1::-1]), label='Expectation', color='blue')\n",
    "plt.legend(loc=\"upper left\")\n",
    "plt.ylabel(\"Pollution Index of the City\")\n",
    "plt.xlabel(\"Rank of City\")\n",
    "plt.title(\"Pollution data representation\");\n"
   ]
  },
  {
   "cell_type": "code",
   "execution_count": null,
   "metadata": {},
   "outputs": [],
   "source": [
    "#mean of our inputs and outputs\n",
    "x_mean = np.mean(X)\n",
    "y_mean = np.mean(Y)\n",
    "\n",
    "#total number of values\n",
    "n = len(X)\n",
    "\n",
    "#using the formula to calculate the b1 and b0\n",
    "numerator = 0\n",
    "denominator = 0\n",
    "for i in range(0,n):\n",
    "    numerator += (X[i] - x_mean) * (Y[i] - y_mean)\n",
    "    denominator += (X[i] - x_mean) ** 2\n",
    "    \n",
    "b1 = numerator / denominator\n",
    "b0 = y_mean - (b1 * x_mean)\n",
    "\n",
    "#printing the coefficient\n",
    "print(b1, b0)\n",
    "#plotting values \n",
    "x_max = np.max(X) + 100\n",
    "x_min = np.min(X) - 100\n",
    "\n",
    "#calculating line values of x and y\n",
    "x = np.linspace(x_min, x_max, 100000)\n",
    "y = b0 + b1 * x\n",
    "\n",
    "#plotting line \n",
    "plt.plot(x, y, color='blue', label='Linear Regression')\n",
    "\n",
    "#plot the data point\n",
    "plt.scatter(X, Y, color='black', label='Data Point', alpha=0.75)\n",
    "\n",
    "# x-axis label\n",
    "plt.xlabel('Pollution_Expectation')\n",
    "\n",
    "#y-axis label\n",
    "plt.ylabel('Pollution_Index')\n",
    "\n",
    "plt.legend()\n",
    "plt.margins(x=-0.45, y=-0.45)\n",
    "plt.show()"
   ]
  },
  {
   "cell_type": "code",
   "execution_count": null,
   "metadata": {},
   "outputs": [],
   "source": []
  }
 ],
 "metadata": {
  "kernelspec": {
   "display_name": "Python 3 (ipykernel)",
   "language": "python",
   "name": "python3"
  },
  "language_info": {
   "codemirror_mode": {
    "name": "ipython",
    "version": 3
   },
   "file_extension": ".py",
   "mimetype": "text/x-python",
   "name": "python",
   "nbconvert_exporter": "python",
   "pygments_lexer": "ipython3",
   "version": "3.9.7"
  }
 },
 "nbformat": 4,
 "nbformat_minor": 4
}
